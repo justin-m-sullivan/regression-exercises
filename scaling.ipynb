{
 "cells": [
  {
   "cell_type": "markdown",
   "metadata": {},
   "source": [
    "# Scaling Exercises"
   ]
  },
  {
   "cell_type": "code",
   "execution_count": 1,
   "metadata": {},
   "outputs": [],
   "source": [
    "import pandas as pd\n",
    "import numpy as np\n",
    "import matplotlib.pyplot as plt\n",
    "import seaborn as sns\n",
    "from scipy import stats\n",
    "import sklearn.preprocessing\n",
    "from sklearn.model_selection import train_test_split\n",
    "from sklearn.preprocessing import QuantileTransformer\n",
    "import wrangle\n",
    "import prepare\n",
    "import warnings\n",
    "warnings.filterwarnings('ignore')"
   ]
  },
  {
   "cell_type": "code",
   "execution_count": 2,
   "metadata": {},
   "outputs": [],
   "source": [
    "telco = wrangle.wrangle_telco()"
   ]
  },
  {
   "cell_type": "code",
   "execution_count": 3,
   "metadata": {},
   "outputs": [
    {
     "name": "stdout",
     "output_type": "stream",
     "text": [
      "<class 'pandas.core.frame.DataFrame'>\n",
      "Index: 1695 entries, 0013-SMEOE to 9995-HOTOH\n",
      "Data columns (total 3 columns):\n",
      " #   Column           Non-Null Count  Dtype  \n",
      "---  ------           --------------  -----  \n",
      " 0   monthly_charges  1695 non-null   float64\n",
      " 1   tenure           1695 non-null   int64  \n",
      " 2   total_charges    1695 non-null   float64\n",
      "dtypes: float64(2), int64(1)\n",
      "memory usage: 53.0+ KB\n"
     ]
    }
   ],
   "source": [
    "telco.info()"
   ]
  },
  {
   "cell_type": "code",
   "execution_count": 4,
   "metadata": {},
   "outputs": [
    {
     "data": {
      "text/plain": [
       "((949, 3), (407, 3), (339, 3))"
      ]
     },
     "execution_count": 4,
     "metadata": {},
     "output_type": "execute_result"
    }
   ],
   "source": [
    "train, validate, test = wrangle.train_validate_test_split(telco)\n",
    "train.shape, validate.shape, test.shape"
   ]
  },
  {
   "cell_type": "markdown",
   "metadata": {},
   "source": [
    "## 1. Apply the scalers we talked about in this lesson to your data and visualize the results in a way that can ."
   ]
  },
  {
   "cell_type": "markdown",
   "metadata": {},
   "source": [
    "### Summarize the Train DF"
   ]
  },
  {
   "cell_type": "code",
   "execution_count": 5,
   "metadata": {},
   "outputs": [
    {
     "data": {
      "text/plain": [
       "(949, 3)"
      ]
     },
     "execution_count": 5,
     "metadata": {},
     "output_type": "execute_result"
    }
   ],
   "source": [
    "train.shape"
   ]
  },
  {
   "cell_type": "code",
   "execution_count": 6,
   "metadata": {},
   "outputs": [
    {
     "name": "stdout",
     "output_type": "stream",
     "text": [
      "<class 'pandas.core.frame.DataFrame'>\n",
      "Index: 949 entries, 7501-IWUNG to 9418-RUKPH\n",
      "Data columns (total 3 columns):\n",
      " #   Column           Non-Null Count  Dtype  \n",
      "---  ------           --------------  -----  \n",
      " 0   monthly_charges  949 non-null    float64\n",
      " 1   tenure           949 non-null    int64  \n",
      " 2   total_charges    949 non-null    float64\n",
      "dtypes: float64(2), int64(1)\n",
      "memory usage: 29.7+ KB\n"
     ]
    }
   ],
   "source": [
    "train.info()"
   ]
  },
  {
   "cell_type": "code",
   "execution_count": 7,
   "metadata": {},
   "outputs": [
    {
     "data": {
      "text/html": [
       "<div>\n",
       "<style scoped>\n",
       "    .dataframe tbody tr th:only-of-type {\n",
       "        vertical-align: middle;\n",
       "    }\n",
       "\n",
       "    .dataframe tbody tr th {\n",
       "        vertical-align: top;\n",
       "    }\n",
       "\n",
       "    .dataframe thead th {\n",
       "        text-align: right;\n",
       "    }\n",
       "</style>\n",
       "<table border=\"1\" class=\"dataframe\">\n",
       "  <thead>\n",
       "    <tr style=\"text-align: right;\">\n",
       "      <th></th>\n",
       "      <th>monthly_charges</th>\n",
       "      <th>tenure</th>\n",
       "      <th>total_charges</th>\n",
       "    </tr>\n",
       "  </thead>\n",
       "  <tbody>\n",
       "    <tr>\n",
       "      <th>count</th>\n",
       "      <td>949.000000</td>\n",
       "      <td>949.000000</td>\n",
       "      <td>949.000000</td>\n",
       "    </tr>\n",
       "    <tr>\n",
       "      <th>mean</th>\n",
       "      <td>61.224921</td>\n",
       "      <td>56.495258</td>\n",
       "      <td>3729.519968</td>\n",
       "    </tr>\n",
       "    <tr>\n",
       "      <th>std</th>\n",
       "      <td>34.779455</td>\n",
       "      <td>18.354262</td>\n",
       "      <td>2600.297158</td>\n",
       "    </tr>\n",
       "    <tr>\n",
       "      <th>min</th>\n",
       "      <td>18.400000</td>\n",
       "      <td>0.000000</td>\n",
       "      <td>0.000000</td>\n",
       "    </tr>\n",
       "    <tr>\n",
       "      <th>25%</th>\n",
       "      <td>22.950000</td>\n",
       "      <td>47.000000</td>\n",
       "      <td>1237.650000</td>\n",
       "    </tr>\n",
       "    <tr>\n",
       "      <th>50%</th>\n",
       "      <td>64.700000</td>\n",
       "      <td>64.000000</td>\n",
       "      <td>3603.450000</td>\n",
       "    </tr>\n",
       "    <tr>\n",
       "      <th>75%</th>\n",
       "      <td>90.400000</td>\n",
       "      <td>71.000000</td>\n",
       "      <td>6052.250000</td>\n",
       "    </tr>\n",
       "    <tr>\n",
       "      <th>max</th>\n",
       "      <td>118.650000</td>\n",
       "      <td>72.000000</td>\n",
       "      <td>8670.100000</td>\n",
       "    </tr>\n",
       "  </tbody>\n",
       "</table>\n",
       "</div>"
      ],
      "text/plain": [
       "       monthly_charges      tenure  total_charges\n",
       "count       949.000000  949.000000     949.000000\n",
       "mean         61.224921   56.495258    3729.519968\n",
       "std          34.779455   18.354262    2600.297158\n",
       "min          18.400000    0.000000       0.000000\n",
       "25%          22.950000   47.000000    1237.650000\n",
       "50%          64.700000   64.000000    3603.450000\n",
       "75%          90.400000   71.000000    6052.250000\n",
       "max         118.650000   72.000000    8670.100000"
      ]
     },
     "execution_count": 7,
     "metadata": {},
     "output_type": "execute_result"
    }
   ],
   "source": [
    "train.describe()"
   ]
  },
  {
   "cell_type": "code",
   "execution_count": 8,
   "metadata": {},
   "outputs": [
    {
     "data": {
      "text/html": [
       "<div>\n",
       "<style scoped>\n",
       "    .dataframe tbody tr th:only-of-type {\n",
       "        vertical-align: middle;\n",
       "    }\n",
       "\n",
       "    .dataframe tbody tr th {\n",
       "        vertical-align: top;\n",
       "    }\n",
       "\n",
       "    .dataframe thead th {\n",
       "        text-align: right;\n",
       "    }\n",
       "</style>\n",
       "<table border=\"1\" class=\"dataframe\">\n",
       "  <thead>\n",
       "    <tr style=\"text-align: right;\">\n",
       "      <th></th>\n",
       "      <th>monthly_charges</th>\n",
       "      <th>tenure</th>\n",
       "      <th>total_charges</th>\n",
       "    </tr>\n",
       "    <tr>\n",
       "      <th>customer_id</th>\n",
       "      <th></th>\n",
       "      <th></th>\n",
       "      <th></th>\n",
       "    </tr>\n",
       "  </thead>\n",
       "  <tbody>\n",
       "    <tr>\n",
       "      <th>7501-IWUNG</th>\n",
       "      <td>73.80</td>\n",
       "      <td>61</td>\n",
       "      <td>4616.05</td>\n",
       "    </tr>\n",
       "    <tr>\n",
       "      <th>1303-SRDOK</th>\n",
       "      <td>69.05</td>\n",
       "      <td>55</td>\n",
       "      <td>3842.60</td>\n",
       "    </tr>\n",
       "    <tr>\n",
       "      <th>3967-VQOGC</th>\n",
       "      <td>24.90</td>\n",
       "      <td>67</td>\n",
       "      <td>1680.25</td>\n",
       "    </tr>\n",
       "    <tr>\n",
       "      <th>3777-XROBG</th>\n",
       "      <td>19.55</td>\n",
       "      <td>58</td>\n",
       "      <td>1079.65</td>\n",
       "    </tr>\n",
       "    <tr>\n",
       "      <th>5075-JSDKI</th>\n",
       "      <td>24.45</td>\n",
       "      <td>59</td>\n",
       "      <td>1493.10</td>\n",
       "    </tr>\n",
       "  </tbody>\n",
       "</table>\n",
       "</div>"
      ],
      "text/plain": [
       "             monthly_charges  tenure  total_charges\n",
       "customer_id                                        \n",
       "7501-IWUNG             73.80      61        4616.05\n",
       "1303-SRDOK             69.05      55        3842.60\n",
       "3967-VQOGC             24.90      67        1680.25\n",
       "3777-XROBG             19.55      58        1079.65\n",
       "5075-JSDKI             24.45      59        1493.10"
      ]
     },
     "execution_count": 8,
     "metadata": {},
     "output_type": "execute_result"
    }
   ],
   "source": [
    "train.head()"
   ]
  },
  {
   "cell_type": "markdown",
   "metadata": {},
   "source": [
    "### Min-Max Scaling"
   ]
  },
  {
   "cell_type": "code",
   "execution_count": 9,
   "metadata": {},
   "outputs": [
    {
     "data": {
      "text/plain": [
       "MinMaxScaler()"
      ]
     },
     "execution_count": 9,
     "metadata": {},
     "output_type": "execute_result"
    }
   ],
   "source": [
    "scaler = sklearn.preprocessing.MinMaxScaler()\n",
    "\n",
    "scaler.fit(train)"
   ]
  },
  {
   "cell_type": "code",
   "execution_count": 10,
   "metadata": {},
   "outputs": [],
   "source": [
    "train_scaled = scaler.transform(train)\n",
    "validate_scaled = scaler.transform(validate)\n",
    "test_scaled = scaler.transform(test)"
   ]
  },
  {
   "cell_type": "code",
   "execution_count": 11,
   "metadata": {},
   "outputs": [],
   "source": [
    "train_scaled = pd.DataFrame(train_scaled, columns=train.columns)\n",
    "validate_scaled = pd.DataFrame(validate_scaled, columns=train.columns)\n",
    "test_scaled = pd.DataFrame(test_scaled, columns=train.columns)"
   ]
  },
  {
   "cell_type": "code",
   "execution_count": 12,
   "metadata": {},
   "outputs": [
    {
     "data": {
      "text/plain": [
       "Text(0.5, 1.0, 'Scaled')"
      ]
     },
     "execution_count": 12,
     "metadata": {},
     "output_type": "execute_result"
    },
    {
     "data": {
      "image/png": "[encoded data removed]",
      "text/plain": [
       "<Figure size 936x432 with 2 Axes>"
      ]
     },
     "metadata": {
      "needs_background": "light"
     },
     "output_type": "display_data"
    }
   ],
   "source": [
    "plt.figure(figsize=(13, 6))\n",
    "plt.subplot(121)\n",
    "plt.hist(train.total_charges, bins=25, ec='black')\n",
    "plt.title('Original')\n",
    "plt.subplot(122)\n",
    "plt.hist(train_scaled.total_charges, bins=25, ec='black')\n",
    "plt.title('Scaled')"
   ]
  },
  {
   "cell_type": "markdown",
   "metadata": {},
   "source": [
    "### Standard Scaler"
   ]
  },
  {
   "cell_type": "code",
   "execution_count": 13,
   "metadata": {},
   "outputs": [],
   "source": [
    "#Create the scaler object\n",
    "scaler = sklearn.preprocessing.StandardScaler()"
   ]
  },
  {
   "cell_type": "code",
   "execution_count": 14,
   "metadata": {},
   "outputs": [
    {
     "data": {
      "text/plain": [
       "StandardScaler()"
      ]
     },
     "execution_count": 14,
     "metadata": {},
     "output_type": "execute_result"
    }
   ],
   "source": [
    "#Fit data on train\n",
    "scaler.fit(train)"
   ]
  },
  {
   "cell_type": "code",
   "execution_count": 15,
   "metadata": {},
   "outputs": [],
   "source": [
    "#Use transform to apply the scaling to the split data sets\n",
    "train_standard_scaled = scaler.transform(train)\n",
    "validate_standard_scaled = scaler.transform(validate)\n",
    "test_standard_scaled = scaler.transform(test)"
   ]
  },
  {
   "cell_type": "code",
   "execution_count": 16,
   "metadata": {},
   "outputs": [],
   "source": [
    "#Convert scaled arrays to a pandas dataframe\n",
    "train_standard_scaled = pd.DataFrame(train_standard_scaled, columns=train.columns)\n",
    "validate_standard_scaled = pd.DataFrame(validate_standard_scaled, columns=train.columns)\n",
    "test_standard_scaled = pd.DataFrame(test_standard_scaled, columns=train.columns)"
   ]
  },
  {
   "cell_type": "code",
   "execution_count": 17,
   "metadata": {},
   "outputs": [
    {
     "data": {
      "text/plain": [
       "Text(0.5, 1.0, 'Scaled')"
      ]
     },
     "execution_count": 17,
     "metadata": {},
     "output_type": "execute_result"
    },
    {
     "data": {
      "image/png": "[encoded data removed]",
      "text/plain": [
       "<Figure size 936x432 with 2 Axes>"
      ]
     },
     "metadata": {
      "needs_background": "light"
     },
     "output_type": "display_data"
    }
   ],
   "source": [
    "#Visualize the distributions of the unscaled and scaled data\n",
    "plt.figure(figsize=(13, 6))\n",
    "plt.subplot(121)\n",
    "plt.hist(train.tenure, bins=25, ec='black')\n",
    "plt.title('Original')\n",
    "plt.subplot(122)\n",
    "plt.hist(train_standard_scaled.tenure, bins=25, ec='black')\n",
    "plt.title('Scaled')"
   ]
  },
  {
   "cell_type": "markdown",
   "metadata": {},
   "source": [
    "### Robut Scaler"
   ]
  },
  {
   "cell_type": "code",
   "execution_count": 18,
   "metadata": {},
   "outputs": [],
   "source": [
    "#Create the object\n",
    "scaler = sklearn.preprocessing.RobustScaler()\n",
    "\n",
    "#Fit the data on train\n",
    "scaler.fit(train)\n",
    "\n",
    "#Apply the scaled data to the split datasets \n",
    "train_robust_scaled = scaler.transform(train)\n",
    "validate_robust_scaled = scaler.transform(validate)\n",
    "test_robust_scaled = scaler.transform(test)"
   ]
  },
  {
   "cell_type": "code",
   "execution_count": 19,
   "metadata": {},
   "outputs": [],
   "source": [
    "#Convert the scaled data from an array to dataframe\n",
    "train_robust_scaled = pd.DataFrame(train_robust_scaled, columns=train.columns)\n",
    "validate_robust_scaled = pd.DataFrame(validate_robust_scaled, columns=validate.columns)\n",
    "test_robust_scaled = pd.DataFrame(test_robust_scaled, columns=test.columns)"
   ]
  },
  {
   "cell_type": "code",
   "execution_count": 20,
   "metadata": {},
   "outputs": [
    {
     "data": {
      "image/png": "[encoded data removed]",
      "text/plain": [
       "<Figure size 936x432 with 2 Axes>"
      ]
     },
     "metadata": {
      "needs_background": "light"
     },
     "output_type": "display_data"
    }
   ],
   "source": [
    "#Visualize the distributions\n",
    "plt.figure(figsize=(13,6))\n",
    "plt.subplot(121)\n",
    "plt.hist(train, bins=25, ec='black')\n",
    "plt.title('Original')\n",
    "plt.subplot(122)\n",
    "plt.hist(train_robust_scaled, bins=25, ec=\"black\")\n",
    "plt.show()"
   ]
  },
  {
   "cell_type": "markdown",
   "metadata": {},
   "source": [
    "## 2. Apply the .inverse_transform method to your scaled data. Is the resulting dataset the exact same as the original data?"
   ]
  },
  {
   "cell_type": "markdown",
   "metadata": {},
   "source": [
    "### Apply .inverse_transform to the Min-Max Scaled Data"
   ]
  },
  {
   "cell_type": "code",
   "execution_count": 21,
   "metadata": {},
   "outputs": [],
   "source": [
    "#Apply .inverse_transform to the Min-Max Scaled Data\n",
    "train_og = scaler.inverse_transform(train_scaled)\n",
    "\n",
    "#Convert inverse transformed data from an array to a pandas dataframe with same columns as og dataset\n",
    "train_og = pd.DataFrame(train_og, columns=train.columns)"
   ]
  },
  {
   "cell_type": "code",
   "execution_count": 22,
   "metadata": {},
   "outputs": [
    {
     "data": {
      "text/plain": [
       "(       monthly_charges      tenure  total_charges\n",
       " count       949.000000  949.000000     949.000000\n",
       " mean         93.513376   82.831753    5674.492645\n",
       " std          23.400242    6.118087    1443.973045\n",
       " min          64.700000   64.000000    3603.450000\n",
       " 25%          67.761322   79.666667    4290.730388\n",
       " 50%          95.851471   85.333333    5604.484633\n",
       " 75%         113.142893   87.666667    6964.329673\n",
       " max         132.150000   88.000000    8418.050000,\n",
       "        monthly_charges      tenure  total_charges\n",
       " count       949.000000  949.000000     949.000000\n",
       " mean         61.224921   56.495258    3729.519968\n",
       " std          34.779455   18.354262    2600.297158\n",
       " min          18.400000    0.000000       0.000000\n",
       " 25%          22.950000   47.000000    1237.650000\n",
       " 50%          64.700000   64.000000    3603.450000\n",
       " 75%          90.400000   71.000000    6052.250000\n",
       " max         118.650000   72.000000    8670.100000)"
      ]
     },
     "execution_count": 22,
     "metadata": {},
     "output_type": "execute_result"
    }
   ],
   "source": [
    "#Comapare if the inversed transformed dataset is the same as the original, pre-standard scaled dataset\n",
    "train_og.describe(), train.describe()"
   ]
  },
  {
   "cell_type": "markdown",
   "metadata": {},
   "source": [
    "<div class=\"alert alert-block alert-info\"><b>Takeaway:</b> Applying the inverse transform fucntion to the min-max scaled data set does not return the original data set exactly the same. </div>"
   ]
  },
  {
   "cell_type": "markdown",
   "metadata": {},
   "source": [
    "### Apply .inverse_transform to the Standard Scaled Data"
   ]
  },
  {
   "cell_type": "code",
   "execution_count": 23,
   "metadata": {},
   "outputs": [],
   "source": [
    "#Apply .inverse_transform to the Standard Scaled Data\n",
    "train_og = scaler.inverse_transform(train_standard_scaled)\n",
    "\n",
    "#Convert inverse transformed data from an array to a pandas dataframe with same columns as og dataset\n",
    "train_og = pd.DataFrame(train_og, columns=train.columns)"
   ]
  },
  {
   "cell_type": "code",
   "execution_count": 24,
   "metadata": {},
   "outputs": [
    {
     "data": {
      "text/plain": [
       "(       monthly_charges      tenure  total_charges\n",
       " count       949.000000  949.000000     949.000000\n",
       " mean         64.700000   64.000000    3603.450000\n",
       " std          67.485566   24.012655    4817.138677\n",
       " min         -18.396875   -9.912050   -3305.612231\n",
       " 25%          -9.568119   51.577471   -1012.823630\n",
       " 50%          71.442995   73.818361    3369.901108\n",
       " 75%         121.310913   82.976375    7906.386161\n",
       " max         176.126816   84.284663   12756.042073,\n",
       "        monthly_charges      tenure  total_charges\n",
       " count       949.000000  949.000000     949.000000\n",
       " mean         61.224921   56.495258    3729.519968\n",
       " std          34.779455   18.354262    2600.297158\n",
       " min          18.400000    0.000000       0.000000\n",
       " 25%          22.950000   47.000000    1237.650000\n",
       " 50%          64.700000   64.000000    3603.450000\n",
       " 75%          90.400000   71.000000    6052.250000\n",
       " max         118.650000   72.000000    8670.100000)"
      ]
     },
     "execution_count": 24,
     "metadata": {},
     "output_type": "execute_result"
    }
   ],
   "source": [
    "#Comapare if the inversed transformed dataset is the same as the original, pre-standard scaled dataset\n",
    "train_og.describe(), train.describe()"
   ]
  },
  {
   "cell_type": "markdown",
   "metadata": {},
   "source": [
    "<div class=\"alert alert-block alert-info\"><b>Takeaway:</b> Applying the inverse transform fucntion to the standard scaled data set does not return the original data set exactly the same. </div>"
   ]
  },
  {
   "cell_type": "markdown",
   "metadata": {},
   "source": [
    "### Apply .inverse_transform to the Robust Scaled Data"
   ]
  },
  {
   "cell_type": "code",
   "execution_count": 25,
   "metadata": {},
   "outputs": [],
   "source": [
    "#Apply .inverse_transform to the Min-Max Scaled Data\n",
    "train_og = scaler.inverse_transform(train_robust_scaled)\n",
    "\n",
    "#Convert inverse transformed data from an array to a pandas dataframe with same columns as og dataset\n",
    "train_og = pd.DataFrame(train_og, columns=train.columns)"
   ]
  },
  {
   "cell_type": "code",
   "execution_count": 26,
   "metadata": {},
   "outputs": [
    {
     "data": {
      "text/plain": [
       "(       monthly_charges      tenure  total_charges\n",
       " count       949.000000  949.000000     949.000000\n",
       " mean         61.224921   56.495258    3729.519968\n",
       " std          34.779455   18.354262    2600.297158\n",
       " min          18.400000    0.000000       0.000000\n",
       " 25%          22.950000   47.000000    1237.650000\n",
       " 50%          64.700000   64.000000    3603.450000\n",
       " 75%          90.400000   71.000000    6052.250000\n",
       " max         118.650000   72.000000    8670.100000,\n",
       "        monthly_charges      tenure  total_charges\n",
       " count       949.000000  949.000000     949.000000\n",
       " mean         61.224921   56.495258    3729.519968\n",
       " std          34.779455   18.354262    2600.297158\n",
       " min          18.400000    0.000000       0.000000\n",
       " 25%          22.950000   47.000000    1237.650000\n",
       " 50%          64.700000   64.000000    3603.450000\n",
       " 75%          90.400000   71.000000    6052.250000\n",
       " max         118.650000   72.000000    8670.100000)"
      ]
     },
     "execution_count": 26,
     "metadata": {},
     "output_type": "execute_result"
    }
   ],
   "source": [
    "#Comapare if the inversed transformed dataset is the same as the original, pre-standard scaled dataset\n",
    "train_og.describe(), train.describe()"
   ]
  },
  {
   "cell_type": "markdown",
   "metadata": {},
   "source": [
    "<div class=\"alert alert-block alert-info\"><b>Takeaway:</b> Applying the inverse transform fucntion to the robust scaled data set DOES return the original data set exactly the same. </div>"
   ]
  },
  {
   "cell_type": "markdown",
   "metadata": {},
   "source": [
    "## 3. Read the documentation for sklearn's QuantileTransformer. Use normal for the output_distribution and apply this scaler to your data. Visualize the result of your data scaling."
   ]
  },
  {
   "cell_type": "code",
   "execution_count": 27,
   "metadata": {},
   "outputs": [
    {
     "data": {
      "image/png": "[encoded data removed]",
      "text/plain": [
       "<Figure size 936x432 with 2 Axes>"
      ]
     },
     "metadata": {
      "needs_background": "light"
     },
     "output_type": "display_data"
    }
   ],
   "source": [
    "#Create the Quantile Transformer Object\n",
    "qt = QuantileTransformer(output_distribution='normal')\n",
    "\n",
    "#Fit the data on train\n",
    "qt.fit_transform(train)\n",
    "\n",
    "train_qt_scaled = qt.transform(train)\n",
    "validate_qt_scaled = qt.transform(validate)\n",
    "test_qt_scaled = qt.transform(test)\n",
    "\n",
    "#Convert the scaled data from an array to dataframe\n",
    "train_qt_scaled = pd.DataFrame(train_qt_scaled, columns=train.columns)\n",
    "validate_qt_scaled = pd.DataFrame(validate_qt_scaled, columns=validate.columns)\n",
    "test_qt_scaled = pd.DataFrame(test_qt_scaled, columns=test.columns)\n",
    "\n",
    "#Visualize the distributions\n",
    "plt.figure(figsize=(13,6))\n",
    "plt.subplot(121)\n",
    "plt.hist(train.total_charges, bins=25, ec='black')\n",
    "plt.title('Original')\n",
    "plt.subplot(122)\n",
    "plt.hist(train_qt_scaled.total_charges, bins=25, ec=\"black\")\n",
    "plt.title('Quartile Transformed')\n",
    "plt.show()"
   ]
  },
  {
   "cell_type": "markdown",
   "metadata": {},
   "source": [
    "## 4. Use the QuantileTransformer, but omit the output_distribution argument. Visualize your results. What do you notice?"
   ]
  },
  {
   "cell_type": "code",
   "execution_count": 28,
   "metadata": {},
   "outputs": [
    {
     "data": {
      "image/png": "[encoded data removed]",
      "text/plain": [
       "<Figure size 936x432 with 2 Axes>"
      ]
     },
     "metadata": {
      "needs_background": "light"
     },
     "output_type": "display_data"
    }
   ],
   "source": [
    "#Create the Quantile Transformer Object\n",
    "qt = QuantileTransformer()\n",
    "\n",
    "#Fit the data on train\n",
    "qt.fit_transform(train)\n",
    "\n",
    "train_qt_scaled = qt.transform(train)\n",
    "validate_qt_scaled = qt.transform(validate)\n",
    "test_qt_scaled = qt.transform(test)\n",
    "\n",
    "#Convert the scaled data from an array to dataframe\n",
    "train_qt_scaled = pd.DataFrame(train_qt_scaled, columns=train.columns)\n",
    "validate_qt_scaled = pd.DataFrame(validate_qt_scaled, columns=validate.columns)\n",
    "test_qt_scaled = pd.DataFrame(test_qt_scaled, columns=test.columns)\n",
    "\n",
    "#Visualize the distributions\n",
    "plt.figure(figsize=(13,6))\n",
    "plt.subplot(121)\n",
    "plt.hist(train.total_charges, bins=25, ec='black')\n",
    "plt.title('Original')\n",
    "plt.subplot(122)\n",
    "plt.hist(train_qt_scaled.total_charges, bins=25, ec=\"black\")\n",
    "plt.title('Quartile Transformed')\n",
    "plt.show()"
   ]
  },
  {
   "cell_type": "markdown",
   "metadata": {},
   "source": [
    "<div class=\"alert alert-block alert-info\"><b>Takeaway:</b> The default arguement for the output distribution hyperparameter is uniform. Thus, the QT object scales the data uniformly.  </div>"
   ]
  },
  {
   "cell_type": "markdown",
   "metadata": {},
   "source": [
    "## 5. Based on the work you've done, choose a scaling method for your dataset. Write a function within your prepare.py that accepts as input the train, validate, and test data splits, and returns the scaled versions of each. Be sure to only learn the parameters for scaling from your training data!"
   ]
  },
  {
   "cell_type": "code",
   "execution_count": 29,
   "metadata": {},
   "outputs": [],
   "source": [
    "train_scaled, validate_scaled, test_scaled = prepare.scale_telco(telco)"
   ]
  },
  {
   "cell_type": "code",
   "execution_count": 30,
   "metadata": {},
   "outputs": [
    {
     "data": {
      "text/plain": [
       "((949, 3), (407, 3), (339, 3))"
      ]
     },
     "execution_count": 30,
     "metadata": {},
     "output_type": "execute_result"
    }
   ],
   "source": [
    "#check the shapes of the split dfs\n",
    "train_scaled.shape, validate_scaled.shape, test_scaled.shape"
   ]
  },
  {
   "cell_type": "code",
   "execution_count": 31,
   "metadata": {},
   "outputs": [
    {
     "data": {
      "image/png": "[encoded data removed]",
      "text/plain": [
       "<Figure size 936x432 with 2 Axes>"
      ]
     },
     "metadata": {
      "needs_background": "light"
     },
     "output_type": "display_data"
    }
   ],
   "source": [
    "#Visualize the distributions\n",
    "plt.figure(figsize=(13,6))\n",
    "plt.subplot(121)\n",
    "plt.hist(train, bins=25, ec='black')\n",
    "plt.title('Original')\n",
    "plt.subplot(122)\n",
    "plt.hist(train_scaled, bins=25, ec=\"black\")\n",
    "plt.title('Min Max Scaled')\n",
    "plt.show()"
   ]
  }
 ],
 "metadata": {
  "kernelspec": {
   "display_name": "Python 3",
   "language": "python",
   "name": "python3"
  },
  "language_info": {
   "codemirror_mode": {
    "name": "ipython",
    "version": 3
   },
   "file_extension": ".py",
   "mimetype": "text/x-python",
   "name": "python",
   "nbconvert_exporter": "python",
   "pygments_lexer": "ipython3",
   "version": "3.8.5"
  }
 },
 "nbformat": 4,
 "nbformat_minor": 4
}
