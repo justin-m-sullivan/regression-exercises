{
 "cells": [
  {
   "cell_type": "markdown",
   "metadata": {},
   "source": [
    "# Explore Exercises"
   ]
  },
  {
   "cell_type": "code",
   "execution_count": 116,
   "metadata": {},
   "outputs": [],
   "source": [
    "import numpy as np\n",
    "import pandas as pd\n",
    "import matplotlib.pyplot as plt\n",
    "import seaborn as sns\n",
    "from math import sqrt\n",
    "\n",
    "from scipy import stats\n",
    "\n",
    "from env import host, user, password\n",
    "import wrangle\n",
    "import explore"
   ]
  },
  {
   "cell_type": "code",
   "execution_count": 75,
   "metadata": {},
   "outputs": [],
   "source": [
    "zillow = pd.read_sql('''\n",
    "SELECT prop.parcelid, prop.bathroomcnt, prop.bedroomcnt, prop.calculatedbathnbr, \n",
    "prop.calculatedfinishedsquarefeet, prop.fullbathcnt, prop.propertylandusetypeid, \n",
    "prop.regionidcity, prop.regionidcounty, prop.regionidzip, prop.yearbuilt, prop.structuretaxvaluedollarcnt, prop.taxvaluedollarcnt, \n",
    "prop.taxamount, pred.transactiondate\n",
    "FROM properties_2017 as prop\n",
    "JOIN predictions_2017 as pred ON prop.id = pred.id\n",
    "WHERE pred.transactiondate BETWEEN '2017-05-01'\n",
    "\t\t\t\t\t\t\tAND '2017-08-31'\n",
    "\t\tAND prop.propertylandusetypeid = '261'\n",
    "ORDER BY pred.transactiondate DESC;\n",
    "''', wrangle.get_connection('zillow'))"
   ]
  },
  {
   "cell_type": "code",
   "execution_count": 76,
   "metadata": {},
   "outputs": [
    {
     "data": {
      "text/plain": [
       "(30605, 15)"
      ]
     },
     "execution_count": 76,
     "metadata": {},
     "output_type": "execute_result"
    }
   ],
   "source": [
    "zillow.shape"
   ]
  },
  {
   "cell_type": "code",
   "execution_count": 77,
   "metadata": {},
   "outputs": [
    {
     "name": "stdout",
     "output_type": "stream",
     "text": [
      "<class 'pandas.core.frame.DataFrame'>\n",
      "RangeIndex: 30605 entries, 0 to 30604\n",
      "Data columns (total 15 columns):\n",
      " #   Column                        Non-Null Count  Dtype  \n",
      "---  ------                        --------------  -----  \n",
      " 0   parcelid                      30605 non-null  int64  \n",
      " 1   bathroomcnt                   30605 non-null  float64\n",
      " 2   bedroomcnt                    30605 non-null  float64\n",
      " 3   calculatedbathnbr             30436 non-null  float64\n",
      " 4   calculatedfinishedsquarefeet  30513 non-null  float64\n",
      " 5   fullbathcnt                   30436 non-null  float64\n",
      " 6   propertylandusetypeid         30605 non-null  float64\n",
      " 7   regionidcity                  30050 non-null  float64\n",
      " 8   regionidcounty                30605 non-null  float64\n",
      " 9   regionidzip                   30566 non-null  float64\n",
      " 10  yearbuilt                     30505 non-null  float64\n",
      " 11  structuretaxvaluedollarcnt    30520 non-null  float64\n",
      " 12  taxvaluedollarcnt             30600 non-null  float64\n",
      " 13  taxamount                     30550 non-null  float64\n",
      " 14  transactiondate               30605 non-null  object \n",
      "dtypes: float64(13), int64(1), object(1)\n",
      "memory usage: 3.5+ MB\n"
     ]
    }
   ],
   "source": [
    "zillow.info()"
   ]
  },
  {
   "cell_type": "code",
   "execution_count": 78,
   "metadata": {},
   "outputs": [],
   "source": [
    "def prep_zillow(df):\n",
    "    #Calculated bathnbr seems to correspond 1:1 with the number of bathrooms \n",
    "    df.calculatedbathnbr = df.calculatedbathnbr.fillna(df.bathroomcnt)\n",
    "    \n",
    "    #Calculate missing nulls in fullbathcnt which corresponds to bath counts ROUNDED down (removes half baths)\n",
    "    df.fullbathcnt = df.fullbathcnt.fillna(df.bathroomcnt).apply(np.floor)\n",
    "    \n",
    "    #Drop transaction date\n",
    "    df.drop(columns='transactiondate', inplace=True)\n",
    "    \n",
    "    #Drop remaining observations with missing values\n",
    "    df.dropna(inplace=True)\n",
    "    \n",
    "    #Convert Zipcode to int\n",
    "    df.regionidzip = df.regionidzip.astype('int64')\n",
    "    \n",
    "    #Convert Yearbuilt to int\n",
    "    df.yearbuilt = df.yearbuilt.astype('int64')\n",
    "    \n",
    "    #reset index\n",
    "    df = df.set_index('parcelid')\n",
    "    \n",
    "    return df"
   ]
  },
  {
   "cell_type": "code",
   "execution_count": 79,
   "metadata": {},
   "outputs": [],
   "source": [
    "zillow = prep_zillow(zillow)"
   ]
  },
  {
   "cell_type": "code",
   "execution_count": 80,
   "metadata": {},
   "outputs": [
    {
     "name": "stdout",
     "output_type": "stream",
     "text": [
      "<class 'pandas.core.frame.DataFrame'>\n",
      "Int64Index: 29908 entries, 14306741 to 10947382\n",
      "Data columns (total 13 columns):\n",
      " #   Column                        Non-Null Count  Dtype  \n",
      "---  ------                        --------------  -----  \n",
      " 0   bathroomcnt                   29908 non-null  float64\n",
      " 1   bedroomcnt                    29908 non-null  float64\n",
      " 2   calculatedbathnbr             29908 non-null  float64\n",
      " 3   calculatedfinishedsquarefeet  29908 non-null  float64\n",
      " 4   fullbathcnt                   29908 non-null  float64\n",
      " 5   propertylandusetypeid         29908 non-null  float64\n",
      " 6   regionidcity                  29908 non-null  float64\n",
      " 7   regionidcounty                29908 non-null  float64\n",
      " 8   regionidzip                   29908 non-null  int64  \n",
      " 9   yearbuilt                     29908 non-null  int64  \n",
      " 10  structuretaxvaluedollarcnt    29908 non-null  float64\n",
      " 11  taxvaluedollarcnt             29908 non-null  float64\n",
      " 12  taxamount                     29908 non-null  float64\n",
      "dtypes: float64(11), int64(2)\n",
      "memory usage: 3.2 MB\n"
     ]
    }
   ],
   "source": [
    "zillow.info()"
   ]
  },
  {
   "cell_type": "code",
   "execution_count": 81,
   "metadata": {},
   "outputs": [
    {
     "data": {
      "text/plain": [
       "((16748, 13), (7178, 13), (5982, 13))"
      ]
     },
     "execution_count": 81,
     "metadata": {},
     "output_type": "execute_result"
    }
   ],
   "source": [
    "train, validate, test = wrangle.train_validate_test_split(zillow)\n",
    "train.shape, validate.shape, test.shape"
   ]
  },
  {
   "cell_type": "code",
   "execution_count": 82,
   "metadata": {},
   "outputs": [
    {
     "data": {
      "text/html": [
       "<div>\n",
       "<style scoped>\n",
       "    .dataframe tbody tr th:only-of-type {\n",
       "        vertical-align: middle;\n",
       "    }\n",
       "\n",
       "    .dataframe tbody tr th {\n",
       "        vertical-align: top;\n",
       "    }\n",
       "\n",
       "    .dataframe thead th {\n",
       "        text-align: right;\n",
       "    }\n",
       "</style>\n",
       "<table border=\"1\" class=\"dataframe\">\n",
       "  <thead>\n",
       "    <tr style=\"text-align: right;\">\n",
       "      <th></th>\n",
       "      <th>bathroomcnt</th>\n",
       "      <th>bedroomcnt</th>\n",
       "      <th>calculatedbathnbr</th>\n",
       "      <th>calculatedfinishedsquarefeet</th>\n",
       "      <th>fullbathcnt</th>\n",
       "      <th>propertylandusetypeid</th>\n",
       "      <th>regionidcity</th>\n",
       "      <th>regionidcounty</th>\n",
       "      <th>regionidzip</th>\n",
       "      <th>yearbuilt</th>\n",
       "      <th>structuretaxvaluedollarcnt</th>\n",
       "      <th>taxvaluedollarcnt</th>\n",
       "      <th>taxamount</th>\n",
       "    </tr>\n",
       "    <tr>\n",
       "      <th>parcelid</th>\n",
       "      <th></th>\n",
       "      <th></th>\n",
       "      <th></th>\n",
       "      <th></th>\n",
       "      <th></th>\n",
       "      <th></th>\n",
       "      <th></th>\n",
       "      <th></th>\n",
       "      <th></th>\n",
       "      <th></th>\n",
       "      <th></th>\n",
       "      <th></th>\n",
       "      <th></th>\n",
       "    </tr>\n",
       "  </thead>\n",
       "  <tbody>\n",
       "    <tr>\n",
       "      <th>10966090</th>\n",
       "      <td>1.0</td>\n",
       "      <td>2.0</td>\n",
       "      <td>1.0</td>\n",
       "      <td>773.0</td>\n",
       "      <td>1.0</td>\n",
       "      <td>261.0</td>\n",
       "      <td>12447.0</td>\n",
       "      <td>3101.0</td>\n",
       "      <td>96368</td>\n",
       "      <td>1955</td>\n",
       "      <td>110977.0</td>\n",
       "      <td>221806.0</td>\n",
       "      <td>2767.89</td>\n",
       "    </tr>\n",
       "    <tr>\n",
       "      <th>11849115</th>\n",
       "      <td>3.0</td>\n",
       "      <td>4.0</td>\n",
       "      <td>3.0</td>\n",
       "      <td>2377.0</td>\n",
       "      <td>3.0</td>\n",
       "      <td>261.0</td>\n",
       "      <td>6021.0</td>\n",
       "      <td>3101.0</td>\n",
       "      <td>96497</td>\n",
       "      <td>1952</td>\n",
       "      <td>69773.0</td>\n",
       "      <td>99572.0</td>\n",
       "      <td>1529.51</td>\n",
       "    </tr>\n",
       "    <tr>\n",
       "      <th>12847795</th>\n",
       "      <td>3.0</td>\n",
       "      <td>4.0</td>\n",
       "      <td>3.0</td>\n",
       "      <td>2453.0</td>\n",
       "      <td>3.0</td>\n",
       "      <td>261.0</td>\n",
       "      <td>22827.0</td>\n",
       "      <td>3101.0</td>\n",
       "      <td>96492</td>\n",
       "      <td>1985</td>\n",
       "      <td>186110.0</td>\n",
       "      <td>454559.0</td>\n",
       "      <td>5752.26</td>\n",
       "    </tr>\n",
       "    <tr>\n",
       "      <th>14058303</th>\n",
       "      <td>2.5</td>\n",
       "      <td>4.0</td>\n",
       "      <td>2.5</td>\n",
       "      <td>2765.0</td>\n",
       "      <td>2.0</td>\n",
       "      <td>261.0</td>\n",
       "      <td>25218.0</td>\n",
       "      <td>1286.0</td>\n",
       "      <td>96964</td>\n",
       "      <td>1979</td>\n",
       "      <td>239701.0</td>\n",
       "      <td>888768.0</td>\n",
       "      <td>10017.02</td>\n",
       "    </tr>\n",
       "    <tr>\n",
       "      <th>10718851</th>\n",
       "      <td>4.0</td>\n",
       "      <td>4.0</td>\n",
       "      <td>4.0</td>\n",
       "      <td>2862.0</td>\n",
       "      <td>4.0</td>\n",
       "      <td>261.0</td>\n",
       "      <td>12447.0</td>\n",
       "      <td>3101.0</td>\n",
       "      <td>96339</td>\n",
       "      <td>1984</td>\n",
       "      <td>410788.0</td>\n",
       "      <td>732240.0</td>\n",
       "      <td>8992.46</td>\n",
       "    </tr>\n",
       "  </tbody>\n",
       "</table>\n",
       "</div>"
      ],
      "text/plain": [
       "          bathroomcnt  bedroomcnt  calculatedbathnbr  \\\n",
       "parcelid                                               \n",
       "10966090          1.0         2.0                1.0   \n",
       "11849115          3.0         4.0                3.0   \n",
       "12847795          3.0         4.0                3.0   \n",
       "14058303          2.5         4.0                2.5   \n",
       "10718851          4.0         4.0                4.0   \n",
       "\n",
       "          calculatedfinishedsquarefeet  fullbathcnt  propertylandusetypeid  \\\n",
       "parcelid                                                                     \n",
       "10966090                         773.0          1.0                  261.0   \n",
       "11849115                        2377.0          3.0                  261.0   \n",
       "12847795                        2453.0          3.0                  261.0   \n",
       "14058303                        2765.0          2.0                  261.0   \n",
       "10718851                        2862.0          4.0                  261.0   \n",
       "\n",
       "          regionidcity  regionidcounty  regionidzip  yearbuilt  \\\n",
       "parcelid                                                         \n",
       "10966090       12447.0          3101.0        96368       1955   \n",
       "11849115        6021.0          3101.0        96497       1952   \n",
       "12847795       22827.0          3101.0        96492       1985   \n",
       "14058303       25218.0          1286.0        96964       1979   \n",
       "10718851       12447.0          3101.0        96339       1984   \n",
       "\n",
       "          structuretaxvaluedollarcnt  taxvaluedollarcnt  taxamount  \n",
       "parcelid                                                            \n",
       "10966090                    110977.0           221806.0    2767.89  \n",
       "11849115                     69773.0            99572.0    1529.51  \n",
       "12847795                    186110.0           454559.0    5752.26  \n",
       "14058303                    239701.0           888768.0   10017.02  \n",
       "10718851                    410788.0           732240.0    8992.46  "
      ]
     },
     "execution_count": 82,
     "metadata": {},
     "output_type": "execute_result"
    }
   ],
   "source": [
    "train.head()"
   ]
  },
  {
   "cell_type": "code",
   "execution_count": 88,
   "metadata": {},
   "outputs": [
    {
     "data": {
      "image/png": "[encoded data removed]",
      "text/plain": [
       "<Figure size 432x288 with 1 Axes>"
      ]
     },
     "metadata": {
      "needs_background": "light"
     },
     "output_type": "display_data"
    }
   ],
   "source": [
    "train.bathroomcnt.hist()\n",
    "plt.title('Bathroom Cnt')\n",
    "plt.show()"
   ]
  },
  {
   "cell_type": "markdown",
   "metadata": {},
   "source": [
    "### Takeaways:\n",
    "    - Check for outliers and possibly remove"
   ]
  },
  {
   "cell_type": "code",
   "execution_count": 89,
   "metadata": {},
   "outputs": [
    {
     "data": {
      "image/png": "[encoded data removed]",
      "text/plain": [
       "<Figure size 432x288 with 1 Axes>"
      ]
     },
     "metadata": {
      "needs_background": "light"
     },
     "output_type": "display_data"
    }
   ],
   "source": [
    "train.bedroomcnt.hist()\n",
    "plt.title('Bedroom Cnt')\n",
    "plt.show()"
   ]
  },
  {
   "cell_type": "markdown",
   "metadata": {},
   "source": [
    "### Takeaways:\n",
    "    - Looks good...maybe an outlier that needs attention"
   ]
  },
  {
   "cell_type": "code",
   "execution_count": 90,
   "metadata": {},
   "outputs": [
    {
     "data": {
      "image/png": "[encoded data removed]",
      "text/plain": [
       "<Figure size 432x288 with 1 Axes>"
      ]
     },
     "metadata": {
      "needs_background": "light"
     },
     "output_type": "display_data"
    }
   ],
   "source": [
    "train.calculatedfinishedsquarefeet.hist()\n",
    "plt.title('Finished Square Feet')\n",
    "plt.show()"
   ]
  },
  {
   "cell_type": "markdown",
   "metadata": {},
   "source": [
    "### Takeaways:\n",
    "    - Definitely some outliers to deal with"
   ]
  },
  {
   "cell_type": "code",
   "execution_count": 93,
   "metadata": {},
   "outputs": [
    {
     "data": {
      "text/plain": [
       "<AxesSubplot:>"
      ]
     },
     "execution_count": 93,
     "metadata": {},
     "output_type": "execute_result"
    },
    {
     "data": {
      "image/png": "[encoded data removed]",
      "text/plain": [
       "<Figure size 432x288 with 1 Axes>"
      ]
     },
     "metadata": {
      "needs_background": "light"
     },
     "output_type": "display_data"
    }
   ],
   "source": [
    "train.regionidzip.hist()"
   ]
  },
  {
   "cell_type": "markdown",
   "metadata": {},
   "source": [
    "### Takeaways:\n",
    "    - Look at zipcode dist through a frequency table"
   ]
  },
  {
   "cell_type": "code",
   "execution_count": 95,
   "metadata": {},
   "outputs": [
    {
     "data": {
      "text/plain": [
       "<AxesSubplot:>"
      ]
     },
     "execution_count": 95,
     "metadata": {},
     "output_type": "execute_result"
    },
    {
     "data": {
      "image/png": "[encoded data removed]",
      "text/plain": [
       "<Figure size 432x288 with 1 Axes>"
      ]
     },
     "metadata": {
      "needs_background": "light"
     },
     "output_type": "display_data"
    }
   ],
   "source": [
    "train.taxvaluedollarcnt.hist()"
   ]
  },
  {
   "cell_type": "markdown",
   "metadata": {},
   "source": [
    "### Takeaways:\n",
    "    - Outliers here too?"
   ]
  },
  {
   "cell_type": "code",
   "execution_count": 96,
   "metadata": {},
   "outputs": [
    {
     "data": {
      "text/plain": [
       "<AxesSubplot:>"
      ]
     },
     "execution_count": 96,
     "metadata": {},
     "output_type": "execute_result"
    },
    {
     "data": {
      "image/png": "[encoded data removed]",
      "text/plain": [
       "<Figure size 432x288 with 1 Axes>"
      ]
     },
     "metadata": {
      "needs_background": "light"
     },
     "output_type": "display_data"
    }
   ],
   "source": [
    "train.taxamount.hist()"
   ]
  },
  {
   "cell_type": "markdown",
   "metadata": {},
   "source": [
    "### Takeaways:\n",
    "    - Need to deal with outliers"
   ]
  },
  {
   "cell_type": "markdown",
   "metadata": {},
   "source": [
    "## Deal with outliers"
   ]
  },
  {
   "cell_type": "code",
   "execution_count": 98,
   "metadata": {},
   "outputs": [
    {
     "data": {
      "text/html": [
       "<div>\n",
       "<style scoped>\n",
       "    .dataframe tbody tr th:only-of-type {\n",
       "        vertical-align: middle;\n",
       "    }\n",
       "\n",
       "    .dataframe tbody tr th {\n",
       "        vertical-align: top;\n",
       "    }\n",
       "\n",
       "    .dataframe thead th {\n",
       "        text-align: right;\n",
       "    }\n",
       "</style>\n",
       "<table border=\"1\" class=\"dataframe\">\n",
       "  <thead>\n",
       "    <tr style=\"text-align: right;\">\n",
       "      <th></th>\n",
       "      <th>bathroomcnt</th>\n",
       "      <th>bedroomcnt</th>\n",
       "      <th>calculatedbathnbr</th>\n",
       "      <th>calculatedfinishedsquarefeet</th>\n",
       "      <th>fullbathcnt</th>\n",
       "      <th>propertylandusetypeid</th>\n",
       "      <th>regionidcity</th>\n",
       "      <th>regionidcounty</th>\n",
       "      <th>regionidzip</th>\n",
       "      <th>yearbuilt</th>\n",
       "      <th>structuretaxvaluedollarcnt</th>\n",
       "      <th>taxvaluedollarcnt</th>\n",
       "      <th>taxamount</th>\n",
       "    </tr>\n",
       "  </thead>\n",
       "  <tbody>\n",
       "    <tr>\n",
       "      <th>count</th>\n",
       "      <td>16748.000000</td>\n",
       "      <td>16748.000000</td>\n",
       "      <td>16748.000000</td>\n",
       "      <td>16748.000000</td>\n",
       "      <td>16748.000000</td>\n",
       "      <td>16748.0</td>\n",
       "      <td>16748.000000</td>\n",
       "      <td>16748.000000</td>\n",
       "      <td>16748.000000</td>\n",
       "      <td>16748.000000</td>\n",
       "      <td>1.674800e+04</td>\n",
       "      <td>1.674800e+04</td>\n",
       "      <td>16748.000000</td>\n",
       "    </tr>\n",
       "    <tr>\n",
       "      <th>mean</th>\n",
       "      <td>2.228356</td>\n",
       "      <td>3.289885</td>\n",
       "      <td>2.228356</td>\n",
       "      <td>1843.163781</td>\n",
       "      <td>2.177036</td>\n",
       "      <td>261.0</td>\n",
       "      <td>36107.948292</td>\n",
       "      <td>2564.844638</td>\n",
       "      <td>96554.302424</td>\n",
       "      <td>1959.960115</td>\n",
       "      <td>1.717482e+05</td>\n",
       "      <td>4.554878e+05</td>\n",
       "      <td>5551.194968</td>\n",
       "    </tr>\n",
       "    <tr>\n",
       "      <th>std</th>\n",
       "      <td>0.990141</td>\n",
       "      <td>0.925982</td>\n",
       "      <td>0.990141</td>\n",
       "      <td>967.729786</td>\n",
       "      <td>0.973712</td>\n",
       "      <td>0.0</td>\n",
       "      <td>55261.963290</td>\n",
       "      <td>801.819518</td>\n",
       "      <td>3337.209250</td>\n",
       "      <td>21.469462</td>\n",
       "      <td>2.283288e+05</td>\n",
       "      <td>6.189181e+05</td>\n",
       "      <td>7129.538278</td>\n",
       "    </tr>\n",
       "    <tr>\n",
       "      <th>min</th>\n",
       "      <td>0.000000</td>\n",
       "      <td>0.000000</td>\n",
       "      <td>0.000000</td>\n",
       "      <td>160.000000</td>\n",
       "      <td>0.000000</td>\n",
       "      <td>261.0</td>\n",
       "      <td>3491.000000</td>\n",
       "      <td>1286.000000</td>\n",
       "      <td>95982.000000</td>\n",
       "      <td>1880.000000</td>\n",
       "      <td>1.080000e+02</td>\n",
       "      <td>3.257000e+03</td>\n",
       "      <td>37.650000</td>\n",
       "    </tr>\n",
       "    <tr>\n",
       "      <th>25%</th>\n",
       "      <td>2.000000</td>\n",
       "      <td>3.000000</td>\n",
       "      <td>2.000000</td>\n",
       "      <td>1249.000000</td>\n",
       "      <td>2.000000</td>\n",
       "      <td>261.0</td>\n",
       "      <td>12447.000000</td>\n",
       "      <td>1286.000000</td>\n",
       "      <td>96186.000000</td>\n",
       "      <td>1949.000000</td>\n",
       "      <td>7.301575e+04</td>\n",
       "      <td>1.825875e+05</td>\n",
       "      <td>2470.390000</td>\n",
       "    </tr>\n",
       "    <tr>\n",
       "      <th>50%</th>\n",
       "      <td>2.000000</td>\n",
       "      <td>3.000000</td>\n",
       "      <td>2.000000</td>\n",
       "      <td>1612.000000</td>\n",
       "      <td>2.000000</td>\n",
       "      <td>261.0</td>\n",
       "      <td>24832.000000</td>\n",
       "      <td>3101.000000</td>\n",
       "      <td>96383.000000</td>\n",
       "      <td>1957.000000</td>\n",
       "      <td>1.192935e+05</td>\n",
       "      <td>3.255015e+05</td>\n",
       "      <td>4090.970000</td>\n",
       "    </tr>\n",
       "    <tr>\n",
       "      <th>75%</th>\n",
       "      <td>3.000000</td>\n",
       "      <td>4.000000</td>\n",
       "      <td>3.000000</td>\n",
       "      <td>2186.000000</td>\n",
       "      <td>3.000000</td>\n",
       "      <td>261.0</td>\n",
       "      <td>45457.000000</td>\n",
       "      <td>3101.000000</td>\n",
       "      <td>96982.000000</td>\n",
       "      <td>1973.000000</td>\n",
       "      <td>1.958662e+05</td>\n",
       "      <td>5.303570e+05</td>\n",
       "      <td>6358.652500</td>\n",
       "    </tr>\n",
       "    <tr>\n",
       "      <th>max</th>\n",
       "      <td>19.500000</td>\n",
       "      <td>10.000000</td>\n",
       "      <td>19.500000</td>\n",
       "      <td>26345.000000</td>\n",
       "      <td>19.000000</td>\n",
       "      <td>261.0</td>\n",
       "      <td>396556.000000</td>\n",
       "      <td>3101.000000</td>\n",
       "      <td>399675.000000</td>\n",
       "      <td>2015.000000</td>\n",
       "      <td>8.225708e+06</td>\n",
       "      <td>1.912982e+07</td>\n",
       "      <td>228999.210000</td>\n",
       "    </tr>\n",
       "  </tbody>\n",
       "</table>\n",
       "</div>"
      ],
      "text/plain": [
       "        bathroomcnt    bedroomcnt  calculatedbathnbr  \\\n",
       "count  16748.000000  16748.000000       16748.000000   \n",
       "mean       2.228356      3.289885           2.228356   \n",
       "std        0.990141      0.925982           0.990141   \n",
       "min        0.000000      0.000000           0.000000   \n",
       "25%        2.000000      3.000000           2.000000   \n",
       "50%        2.000000      3.000000           2.000000   \n",
       "75%        3.000000      4.000000           3.000000   \n",
       "max       19.500000     10.000000          19.500000   \n",
       "\n",
       "       calculatedfinishedsquarefeet   fullbathcnt  propertylandusetypeid  \\\n",
       "count                  16748.000000  16748.000000                16748.0   \n",
       "mean                    1843.163781      2.177036                  261.0   \n",
       "std                      967.729786      0.973712                    0.0   \n",
       "min                      160.000000      0.000000                  261.0   \n",
       "25%                     1249.000000      2.000000                  261.0   \n",
       "50%                     1612.000000      2.000000                  261.0   \n",
       "75%                     2186.000000      3.000000                  261.0   \n",
       "max                    26345.000000     19.000000                  261.0   \n",
       "\n",
       "        regionidcity  regionidcounty    regionidzip     yearbuilt  \\\n",
       "count   16748.000000    16748.000000   16748.000000  16748.000000   \n",
       "mean    36107.948292     2564.844638   96554.302424   1959.960115   \n",
       "std     55261.963290      801.819518    3337.209250     21.469462   \n",
       "min      3491.000000     1286.000000   95982.000000   1880.000000   \n",
       "25%     12447.000000     1286.000000   96186.000000   1949.000000   \n",
       "50%     24832.000000     3101.000000   96383.000000   1957.000000   \n",
       "75%     45457.000000     3101.000000   96982.000000   1973.000000   \n",
       "max    396556.000000     3101.000000  399675.000000   2015.000000   \n",
       "\n",
       "       structuretaxvaluedollarcnt  taxvaluedollarcnt      taxamount  \n",
       "count                1.674800e+04       1.674800e+04   16748.000000  \n",
       "mean                 1.717482e+05       4.554878e+05    5551.194968  \n",
       "std                  2.283288e+05       6.189181e+05    7129.538278  \n",
       "min                  1.080000e+02       3.257000e+03      37.650000  \n",
       "25%                  7.301575e+04       1.825875e+05    2470.390000  \n",
       "50%                  1.192935e+05       3.255015e+05    4090.970000  \n",
       "75%                  1.958662e+05       5.303570e+05    6358.652500  \n",
       "max                  8.225708e+06       1.912982e+07  228999.210000  "
      ]
     },
     "execution_count": 98,
     "metadata": {},
     "output_type": "execute_result"
    }
   ],
   "source": [
    "train.describe()"
   ]
  },
  {
   "cell_type": "code",
   "execution_count": 104,
   "metadata": {},
   "outputs": [
    {
     "data": {
      "text/plain": [
       "(16748, 13)"
      ]
     },
     "execution_count": 104,
     "metadata": {},
     "output_type": "execute_result"
    }
   ],
   "source": [
    "train.shape"
   ]
  },
  {
   "cell_type": "code",
   "execution_count": 100,
   "metadata": {},
   "outputs": [
    {
     "data": {
      "text/plain": [
       "(182587.5, 530357.0)"
      ]
     },
     "execution_count": 100,
     "metadata": {},
     "output_type": "execute_result"
    }
   ],
   "source": [
    "# Find the IQR\n",
    "q1 = train.taxvaluedollarcnt.quantile(.25)\n",
    "q3 = train.taxvaluedollarcnt.quantile(.75)\n",
    "q1, q3"
   ]
  },
  {
   "cell_type": "code",
   "execution_count": 101,
   "metadata": {},
   "outputs": [
    {
     "data": {
      "text/plain": [
       "347769.5"
      ]
     },
     "execution_count": 101,
     "metadata": {},
     "output_type": "execute_result"
    }
   ],
   "source": [
    "iqr = q3 - q1\n",
    "iqr"
   ]
  },
  {
   "cell_type": "code",
   "execution_count": 102,
   "metadata": {},
   "outputs": [],
   "source": [
    "multiplier = 1.5\n",
    "upper_bound = q3 + (multiplier * iqr)\n",
    "lower_bound = q1 - (multiplier * iqr)"
   ]
  },
  {
   "cell_type": "code",
   "execution_count": 103,
   "metadata": {},
   "outputs": [
    {
     "data": {
      "text/plain": [
       "(1052011.25, -339066.75)"
      ]
     },
     "execution_count": 103,
     "metadata": {},
     "output_type": "execute_result"
    }
   ],
   "source": [
    "upper_bound, lower_bound"
   ]
  },
  {
   "cell_type": "code",
   "execution_count": 105,
   "metadata": {},
   "outputs": [
    {
     "data": {
      "text/plain": [
       "(15681, 13)"
      ]
     },
     "execution_count": 105,
     "metadata": {},
     "output_type": "execute_result"
    }
   ],
   "source": [
    "# Let's filter out the upper value outliers\n",
    "train = train[train.taxvaluedollarcnt < upper_bound]\n",
    "train.shape"
   ]
  },
  {
   "cell_type": "code",
   "execution_count": 107,
   "metadata": {},
   "outputs": [
    {
     "data": {
      "text/plain": [
       "<AxesSubplot:>"
      ]
     },
     "execution_count": 107,
     "metadata": {},
     "output_type": "execute_result"
    },
    {
     "data": {
      "image/png": "[encoded data removed]",
      "text/plain": [
       "<Figure size 432x288 with 1 Axes>"
      ]
     },
     "metadata": {
      "needs_background": "light"
     },
     "output_type": "display_data"
    }
   ],
   "source": [
    "train.taxvaluedollarcnt.hist()"
   ]
  },
  {
   "cell_type": "code",
   "execution_count": 108,
   "metadata": {},
   "outputs": [
    {
     "data": {
      "text/plain": [
       "<AxesSubplot:>"
      ]
     },
     "execution_count": 108,
     "metadata": {},
     "output_type": "execute_result"
    },
    {
     "data": {
      "image/png": "[encoded data removed]",
      "text/plain": [
       "<Figure size 432x288 with 1 Axes>"
      ]
     },
     "metadata": {
      "needs_background": "light"
     },
     "output_type": "display_data"
    }
   ],
   "source": [
    "train.bathroomcnt.hist()"
   ]
  },
  {
   "cell_type": "code",
   "execution_count": 109,
   "metadata": {},
   "outputs": [
    {
     "data": {
      "text/html": [
       "<div>\n",
       "<style scoped>\n",
       "    .dataframe tbody tr th:only-of-type {\n",
       "        vertical-align: middle;\n",
       "    }\n",
       "\n",
       "    .dataframe tbody tr th {\n",
       "        vertical-align: top;\n",
       "    }\n",
       "\n",
       "    .dataframe thead th {\n",
       "        text-align: right;\n",
       "    }\n",
       "</style>\n",
       "<table border=\"1\" class=\"dataframe\">\n",
       "  <thead>\n",
       "    <tr style=\"text-align: right;\">\n",
       "      <th></th>\n",
       "      <th>bathroomcnt</th>\n",
       "      <th>bedroomcnt</th>\n",
       "      <th>calculatedbathnbr</th>\n",
       "      <th>calculatedfinishedsquarefeet</th>\n",
       "      <th>fullbathcnt</th>\n",
       "      <th>propertylandusetypeid</th>\n",
       "      <th>regionidcity</th>\n",
       "      <th>regionidcounty</th>\n",
       "      <th>regionidzip</th>\n",
       "      <th>yearbuilt</th>\n",
       "      <th>structuretaxvaluedollarcnt</th>\n",
       "      <th>taxvaluedollarcnt</th>\n",
       "      <th>taxamount</th>\n",
       "    </tr>\n",
       "  </thead>\n",
       "  <tbody>\n",
       "    <tr>\n",
       "      <th>bathroomcnt</th>\n",
       "      <td>1.000000</td>\n",
       "      <td>0.613705</td>\n",
       "      <td>1.000000</td>\n",
       "      <td>0.790804</td>\n",
       "      <td>0.983507</td>\n",
       "      <td>NaN</td>\n",
       "      <td>-0.034957</td>\n",
       "      <td>-0.159253</td>\n",
       "      <td>0.090870</td>\n",
       "      <td>0.509045</td>\n",
       "      <td>0.637622</td>\n",
       "      <td>0.409869</td>\n",
       "      <td>0.412401</td>\n",
       "    </tr>\n",
       "    <tr>\n",
       "      <th>bedroomcnt</th>\n",
       "      <td>0.613705</td>\n",
       "      <td>1.000000</td>\n",
       "      <td>0.613705</td>\n",
       "      <td>0.615546</td>\n",
       "      <td>0.602528</td>\n",
       "      <td>NaN</td>\n",
       "      <td>-0.034581</td>\n",
       "      <td>-0.164621</td>\n",
       "      <td>0.056398</td>\n",
       "      <td>0.355267</td>\n",
       "      <td>0.404755</td>\n",
       "      <td>0.232385</td>\n",
       "      <td>0.234737</td>\n",
       "    </tr>\n",
       "    <tr>\n",
       "      <th>calculatedbathnbr</th>\n",
       "      <td>1.000000</td>\n",
       "      <td>0.613705</td>\n",
       "      <td>1.000000</td>\n",
       "      <td>0.790804</td>\n",
       "      <td>0.983507</td>\n",
       "      <td>NaN</td>\n",
       "      <td>-0.034957</td>\n",
       "      <td>-0.159253</td>\n",
       "      <td>0.090870</td>\n",
       "      <td>0.509045</td>\n",
       "      <td>0.637622</td>\n",
       "      <td>0.409869</td>\n",
       "      <td>0.412401</td>\n",
       "    </tr>\n",
       "    <tr>\n",
       "      <th>calculatedfinishedsquarefeet</th>\n",
       "      <td>0.790804</td>\n",
       "      <td>0.615546</td>\n",
       "      <td>0.790804</td>\n",
       "      <td>1.000000</td>\n",
       "      <td>0.767803</td>\n",
       "      <td>NaN</td>\n",
       "      <td>-0.028089</td>\n",
       "      <td>-0.167805</td>\n",
       "      <td>0.085491</td>\n",
       "      <td>0.444616</td>\n",
       "      <td>0.727284</td>\n",
       "      <td>0.479480</td>\n",
       "      <td>0.476494</td>\n",
       "    </tr>\n",
       "    <tr>\n",
       "      <th>fullbathcnt</th>\n",
       "      <td>0.983507</td>\n",
       "      <td>0.602528</td>\n",
       "      <td>0.983507</td>\n",
       "      <td>0.767803</td>\n",
       "      <td>1.000000</td>\n",
       "      <td>NaN</td>\n",
       "      <td>-0.027429</td>\n",
       "      <td>-0.075986</td>\n",
       "      <td>0.082516</td>\n",
       "      <td>0.461855</td>\n",
       "      <td>0.614290</td>\n",
       "      <td>0.386420</td>\n",
       "      <td>0.395237</td>\n",
       "    </tr>\n",
       "    <tr>\n",
       "      <th>propertylandusetypeid</th>\n",
       "      <td>NaN</td>\n",
       "      <td>NaN</td>\n",
       "      <td>NaN</td>\n",
       "      <td>NaN</td>\n",
       "      <td>NaN</td>\n",
       "      <td>NaN</td>\n",
       "      <td>NaN</td>\n",
       "      <td>NaN</td>\n",
       "      <td>NaN</td>\n",
       "      <td>NaN</td>\n",
       "      <td>NaN</td>\n",
       "      <td>NaN</td>\n",
       "      <td>NaN</td>\n",
       "    </tr>\n",
       "    <tr>\n",
       "      <th>regionidcity</th>\n",
       "      <td>-0.034957</td>\n",
       "      <td>-0.034581</td>\n",
       "      <td>-0.034957</td>\n",
       "      <td>-0.028089</td>\n",
       "      <td>-0.027429</td>\n",
       "      <td>NaN</td>\n",
       "      <td>1.000000</td>\n",
       "      <td>0.094330</td>\n",
       "      <td>-0.017983</td>\n",
       "      <td>-0.091786</td>\n",
       "      <td>-0.009615</td>\n",
       "      <td>0.020252</td>\n",
       "      <td>0.014091</td>\n",
       "    </tr>\n",
       "    <tr>\n",
       "      <th>regionidcounty</th>\n",
       "      <td>-0.159253</td>\n",
       "      <td>-0.164621</td>\n",
       "      <td>-0.159253</td>\n",
       "      <td>-0.167805</td>\n",
       "      <td>-0.075986</td>\n",
       "      <td>NaN</td>\n",
       "      <td>0.094330</td>\n",
       "      <td>1.000000</td>\n",
       "      <td>-0.102503</td>\n",
       "      <td>-0.350251</td>\n",
       "      <td>-0.069108</td>\n",
       "      <td>-0.158668</td>\n",
       "      <td>-0.089132</td>\n",
       "    </tr>\n",
       "    <tr>\n",
       "      <th>regionidzip</th>\n",
       "      <td>0.090870</td>\n",
       "      <td>0.056398</td>\n",
       "      <td>0.090870</td>\n",
       "      <td>0.085491</td>\n",
       "      <td>0.082516</td>\n",
       "      <td>NaN</td>\n",
       "      <td>-0.017983</td>\n",
       "      <td>-0.102503</td>\n",
       "      <td>1.000000</td>\n",
       "      <td>0.073958</td>\n",
       "      <td>0.017336</td>\n",
       "      <td>0.001860</td>\n",
       "      <td>-0.002083</td>\n",
       "    </tr>\n",
       "    <tr>\n",
       "      <th>yearbuilt</th>\n",
       "      <td>0.509045</td>\n",
       "      <td>0.355267</td>\n",
       "      <td>0.509045</td>\n",
       "      <td>0.444616</td>\n",
       "      <td>0.461855</td>\n",
       "      <td>NaN</td>\n",
       "      <td>-0.091786</td>\n",
       "      <td>-0.350251</td>\n",
       "      <td>0.073958</td>\n",
       "      <td>1.000000</td>\n",
       "      <td>0.493280</td>\n",
       "      <td>0.261797</td>\n",
       "      <td>0.263375</td>\n",
       "    </tr>\n",
       "    <tr>\n",
       "      <th>structuretaxvaluedollarcnt</th>\n",
       "      <td>0.637622</td>\n",
       "      <td>0.404755</td>\n",
       "      <td>0.637622</td>\n",
       "      <td>0.727284</td>\n",
       "      <td>0.614290</td>\n",
       "      <td>NaN</td>\n",
       "      <td>-0.009615</td>\n",
       "      <td>-0.069108</td>\n",
       "      <td>0.017336</td>\n",
       "      <td>0.493280</td>\n",
       "      <td>1.000000</td>\n",
       "      <td>0.713498</td>\n",
       "      <td>0.712667</td>\n",
       "    </tr>\n",
       "    <tr>\n",
       "      <th>taxvaluedollarcnt</th>\n",
       "      <td>0.409869</td>\n",
       "      <td>0.232385</td>\n",
       "      <td>0.409869</td>\n",
       "      <td>0.479480</td>\n",
       "      <td>0.386420</td>\n",
       "      <td>NaN</td>\n",
       "      <td>0.020252</td>\n",
       "      <td>-0.158668</td>\n",
       "      <td>0.001860</td>\n",
       "      <td>0.261797</td>\n",
       "      <td>0.713498</td>\n",
       "      <td>1.000000</td>\n",
       "      <td>0.967921</td>\n",
       "    </tr>\n",
       "    <tr>\n",
       "      <th>taxamount</th>\n",
       "      <td>0.412401</td>\n",
       "      <td>0.234737</td>\n",
       "      <td>0.412401</td>\n",
       "      <td>0.476494</td>\n",
       "      <td>0.395237</td>\n",
       "      <td>NaN</td>\n",
       "      <td>0.014091</td>\n",
       "      <td>-0.089132</td>\n",
       "      <td>-0.002083</td>\n",
       "      <td>0.263375</td>\n",
       "      <td>0.712667</td>\n",
       "      <td>0.967921</td>\n",
       "      <td>1.000000</td>\n",
       "    </tr>\n",
       "  </tbody>\n",
       "</table>\n",
       "</div>"
      ],
      "text/plain": [
       "                              bathroomcnt  bedroomcnt  calculatedbathnbr  \\\n",
       "bathroomcnt                      1.000000    0.613705           1.000000   \n",
       "bedroomcnt                       0.613705    1.000000           0.613705   \n",
       "calculatedbathnbr                1.000000    0.613705           1.000000   \n",
       "calculatedfinishedsquarefeet     0.790804    0.615546           0.790804   \n",
       "fullbathcnt                      0.983507    0.602528           0.983507   \n",
       "propertylandusetypeid                 NaN         NaN                NaN   \n",
       "regionidcity                    -0.034957   -0.034581          -0.034957   \n",
       "regionidcounty                  -0.159253   -0.164621          -0.159253   \n",
       "regionidzip                      0.090870    0.056398           0.090870   \n",
       "yearbuilt                        0.509045    0.355267           0.509045   \n",
       "structuretaxvaluedollarcnt       0.637622    0.404755           0.637622   \n",
       "taxvaluedollarcnt                0.409869    0.232385           0.409869   \n",
       "taxamount                        0.412401    0.234737           0.412401   \n",
       "\n",
       "                              calculatedfinishedsquarefeet  fullbathcnt  \\\n",
       "bathroomcnt                                       0.790804     0.983507   \n",
       "bedroomcnt                                        0.615546     0.602528   \n",
       "calculatedbathnbr                                 0.790804     0.983507   \n",
       "calculatedfinishedsquarefeet                      1.000000     0.767803   \n",
       "fullbathcnt                                       0.767803     1.000000   \n",
       "propertylandusetypeid                                  NaN          NaN   \n",
       "regionidcity                                     -0.028089    -0.027429   \n",
       "regionidcounty                                   -0.167805    -0.075986   \n",
       "regionidzip                                       0.085491     0.082516   \n",
       "yearbuilt                                         0.444616     0.461855   \n",
       "structuretaxvaluedollarcnt                        0.727284     0.614290   \n",
       "taxvaluedollarcnt                                 0.479480     0.386420   \n",
       "taxamount                                         0.476494     0.395237   \n",
       "\n",
       "                              propertylandusetypeid  regionidcity  \\\n",
       "bathroomcnt                                     NaN     -0.034957   \n",
       "bedroomcnt                                      NaN     -0.034581   \n",
       "calculatedbathnbr                               NaN     -0.034957   \n",
       "calculatedfinishedsquarefeet                    NaN     -0.028089   \n",
       "fullbathcnt                                     NaN     -0.027429   \n",
       "propertylandusetypeid                           NaN           NaN   \n",
       "regionidcity                                    NaN      1.000000   \n",
       "regionidcounty                                  NaN      0.094330   \n",
       "regionidzip                                     NaN     -0.017983   \n",
       "yearbuilt                                       NaN     -0.091786   \n",
       "structuretaxvaluedollarcnt                      NaN     -0.009615   \n",
       "taxvaluedollarcnt                               NaN      0.020252   \n",
       "taxamount                                       NaN      0.014091   \n",
       "\n",
       "                              regionidcounty  regionidzip  yearbuilt  \\\n",
       "bathroomcnt                        -0.159253     0.090870   0.509045   \n",
       "bedroomcnt                         -0.164621     0.056398   0.355267   \n",
       "calculatedbathnbr                  -0.159253     0.090870   0.509045   \n",
       "calculatedfinishedsquarefeet       -0.167805     0.085491   0.444616   \n",
       "fullbathcnt                        -0.075986     0.082516   0.461855   \n",
       "propertylandusetypeid                    NaN          NaN        NaN   \n",
       "regionidcity                        0.094330    -0.017983  -0.091786   \n",
       "regionidcounty                      1.000000    -0.102503  -0.350251   \n",
       "regionidzip                        -0.102503     1.000000   0.073958   \n",
       "yearbuilt                          -0.350251     0.073958   1.000000   \n",
       "structuretaxvaluedollarcnt         -0.069108     0.017336   0.493280   \n",
       "taxvaluedollarcnt                  -0.158668     0.001860   0.261797   \n",
       "taxamount                          -0.089132    -0.002083   0.263375   \n",
       "\n",
       "                              structuretaxvaluedollarcnt  taxvaluedollarcnt  \\\n",
       "bathroomcnt                                     0.637622           0.409869   \n",
       "bedroomcnt                                      0.404755           0.232385   \n",
       "calculatedbathnbr                               0.637622           0.409869   \n",
       "calculatedfinishedsquarefeet                    0.727284           0.479480   \n",
       "fullbathcnt                                     0.614290           0.386420   \n",
       "propertylandusetypeid                                NaN                NaN   \n",
       "regionidcity                                   -0.009615           0.020252   \n",
       "regionidcounty                                 -0.069108          -0.158668   \n",
       "regionidzip                                     0.017336           0.001860   \n",
       "yearbuilt                                       0.493280           0.261797   \n",
       "structuretaxvaluedollarcnt                      1.000000           0.713498   \n",
       "taxvaluedollarcnt                               0.713498           1.000000   \n",
       "taxamount                                       0.712667           0.967921   \n",
       "\n",
       "                              taxamount  \n",
       "bathroomcnt                    0.412401  \n",
       "bedroomcnt                     0.234737  \n",
       "calculatedbathnbr              0.412401  \n",
       "calculatedfinishedsquarefeet   0.476494  \n",
       "fullbathcnt                    0.395237  \n",
       "propertylandusetypeid               NaN  \n",
       "regionidcity                   0.014091  \n",
       "regionidcounty                -0.089132  \n",
       "regionidzip                   -0.002083  \n",
       "yearbuilt                      0.263375  \n",
       "structuretaxvaluedollarcnt     0.712667  \n",
       "taxvaluedollarcnt              0.967921  \n",
       "taxamount                      1.000000  "
      ]
     },
     "execution_count": 109,
     "metadata": {},
     "output_type": "execute_result"
    }
   ],
   "source": [
    "train.corr()"
   ]
  },
  {
   "cell_type": "markdown",
   "metadata": {},
   "source": [
    "### Takeaways:\n",
    "    - calculatedbathnbr correlates with bathroomcnt but not as strong as bedroomcnt\n",
    "        - but bedroomcnt doesnt really correlate too strongly with tax amount anyways...so maybe drop bedroom and bathroom cnt in favor of the calculated bathroom and bedroom cnt\n",
    "    - Sq feet correlates with structure tax value count ==> Expected\n",
    "    - Yearbuilt correlates most closely with bathroom cnt.."
   ]
  },
  {
   "cell_type": "code",
   "execution_count": 111,
   "metadata": {},
   "outputs": [
    {
     "name": "stderr",
     "output_type": "stream",
     "text": [
      "/usr/local/anaconda3/lib/python3.8/site-packages/pandas/core/frame.py:4163: SettingWithCopyWarning: \n",
      "A value is trying to be set on a copy of a slice from a DataFrame\n",
      "\n",
      "See the caveats in the documentation: https://pandas.pydata.org/pandas-docs/stable/user_guide/indexing.html#returning-a-view-versus-a-copy\n",
      "  return super().drop(\n"
     ]
    }
   ],
   "source": [
    "cols_to_drop = ['calculatedbathnbr', 'fullbathcnt', 'propertylandusetypeid', 'regionidcity', 'regionidcounty', 'regionidzip']\n",
    "train.drop(columns=cols_to_drop, inplace=True)"
   ]
  },
  {
   "cell_type": "code",
   "execution_count": 112,
   "metadata": {},
   "outputs": [
    {
     "data": {
      "text/html": [
       "<div>\n",
       "<style scoped>\n",
       "    .dataframe tbody tr th:only-of-type {\n",
       "        vertical-align: middle;\n",
       "    }\n",
       "\n",
       "    .dataframe tbody tr th {\n",
       "        vertical-align: top;\n",
       "    }\n",
       "\n",
       "    .dataframe thead th {\n",
       "        text-align: right;\n",
       "    }\n",
       "</style>\n",
       "<table border=\"1\" class=\"dataframe\">\n",
       "  <thead>\n",
       "    <tr style=\"text-align: right;\">\n",
       "      <th></th>\n",
       "      <th>bathroomcnt</th>\n",
       "      <th>bedroomcnt</th>\n",
       "      <th>calculatedfinishedsquarefeet</th>\n",
       "      <th>yearbuilt</th>\n",
       "      <th>structuretaxvaluedollarcnt</th>\n",
       "      <th>taxvaluedollarcnt</th>\n",
       "      <th>taxamount</th>\n",
       "    </tr>\n",
       "    <tr>\n",
       "      <th>parcelid</th>\n",
       "      <th></th>\n",
       "      <th></th>\n",
       "      <th></th>\n",
       "      <th></th>\n",
       "      <th></th>\n",
       "      <th></th>\n",
       "      <th></th>\n",
       "    </tr>\n",
       "  </thead>\n",
       "  <tbody>\n",
       "    <tr>\n",
       "      <th>10966090</th>\n",
       "      <td>1.0</td>\n",
       "      <td>2.0</td>\n",
       "      <td>773.0</td>\n",
       "      <td>1955</td>\n",
       "      <td>110977.0</td>\n",
       "      <td>221806.0</td>\n",
       "      <td>2767.89</td>\n",
       "    </tr>\n",
       "    <tr>\n",
       "      <th>11849115</th>\n",
       "      <td>3.0</td>\n",
       "      <td>4.0</td>\n",
       "      <td>2377.0</td>\n",
       "      <td>1952</td>\n",
       "      <td>69773.0</td>\n",
       "      <td>99572.0</td>\n",
       "      <td>1529.51</td>\n",
       "    </tr>\n",
       "    <tr>\n",
       "      <th>12847795</th>\n",
       "      <td>3.0</td>\n",
       "      <td>4.0</td>\n",
       "      <td>2453.0</td>\n",
       "      <td>1985</td>\n",
       "      <td>186110.0</td>\n",
       "      <td>454559.0</td>\n",
       "      <td>5752.26</td>\n",
       "    </tr>\n",
       "    <tr>\n",
       "      <th>14058303</th>\n",
       "      <td>2.5</td>\n",
       "      <td>4.0</td>\n",
       "      <td>2765.0</td>\n",
       "      <td>1979</td>\n",
       "      <td>239701.0</td>\n",
       "      <td>888768.0</td>\n",
       "      <td>10017.02</td>\n",
       "    </tr>\n",
       "    <tr>\n",
       "      <th>10718851</th>\n",
       "      <td>4.0</td>\n",
       "      <td>4.0</td>\n",
       "      <td>2862.0</td>\n",
       "      <td>1984</td>\n",
       "      <td>410788.0</td>\n",
       "      <td>732240.0</td>\n",
       "      <td>8992.46</td>\n",
       "    </tr>\n",
       "  </tbody>\n",
       "</table>\n",
       "</div>"
      ],
      "text/plain": [
       "          bathroomcnt  bedroomcnt  calculatedfinishedsquarefeet  yearbuilt  \\\n",
       "parcelid                                                                     \n",
       "10966090          1.0         2.0                         773.0       1955   \n",
       "11849115          3.0         4.0                        2377.0       1952   \n",
       "12847795          3.0         4.0                        2453.0       1985   \n",
       "14058303          2.5         4.0                        2765.0       1979   \n",
       "10718851          4.0         4.0                        2862.0       1984   \n",
       "\n",
       "          structuretaxvaluedollarcnt  taxvaluedollarcnt  taxamount  \n",
       "parcelid                                                            \n",
       "10966090                    110977.0           221806.0    2767.89  \n",
       "11849115                     69773.0            99572.0    1529.51  \n",
       "12847795                    186110.0           454559.0    5752.26  \n",
       "14058303                    239701.0           888768.0   10017.02  \n",
       "10718851                    410788.0           732240.0    8992.46  "
      ]
     },
     "execution_count": 112,
     "metadata": {},
     "output_type": "execute_result"
    }
   ],
   "source": [
    "train.head()"
   ]
  },
  {
   "cell_type": "code",
   "execution_count": 115,
   "metadata": {},
   "outputs": [
    {
     "data": {
      "image/png": "[encoded data removed]",
      "text/plain": [
       "<Figure size 576x432 with 2 Axes>"
      ]
     },
     "metadata": {
      "needs_background": "light"
     },
     "output_type": "display_data"
    }
   ],
   "source": [
    "plt.figure(figsize=(8,6))\n",
    "sns.heatmap(train.corr(), cmap='Blues', annot=True)\n",
    "plt.show()"
   ]
  },
  {
   "cell_type": "markdown",
   "metadata": {},
   "source": [
    "### Takeaways:\n",
    "    - Structure value count is more correlated with the features of the structure (bedrooms, bathrooms, squarefeet)\n",
    "    - Those features may be the best drivers for the structure value dollar count\n",
    "        - I may need for more features that are more correlated with the land value i.e. pool to better be able to predict the combined tax value dollar amount \n",
    "    - Year and structure value dollar count have a corr coefficient of .49... why is that? Is it significant?"
   ]
  },
  {
   "cell_type": "markdown",
   "metadata": {},
   "source": [
    "### First Question/Test: Is calculated square feet a good feature for predicting tax value dollar count? Is there a correlation?"
   ]
  },
  {
   "cell_type": "code",
   "execution_count": 134,
   "metadata": {},
   "outputs": [],
   "source": [
    "null_hypothesis = 'there is no correlation between the calculated square foot of a property and the tax value dollar count'\n",
    "alt_hypothesis = 'there is a correlation between square feet and tax value dollar count'\n",
    "\n",
    "n = train.shape[0]     # number of observations\n",
    "degf = n - 2        # degrees of freedom: the # of values in the final calculation of a statistic that are free to vary.\n",
    "conf_interval = .99 # desired confidence interval\n",
    "a = 1 - conf_interval"
   ]
  },
  {
   "cell_type": "code",
   "execution_count": 135,
   "metadata": {},
   "outputs": [
    {
     "data": {
      "text/plain": [
       "(0.4794801025336692, 0.0)"
      ]
     },
     "execution_count": 135,
     "metadata": {},
     "output_type": "execute_result"
    }
   ],
   "source": [
    "x = train.calculatedfinishedsquarefeet\n",
    "y = train.taxvaluedollarcnt\n",
    "\n",
    "corr, p = stats.pearsonr(x, y)\n",
    "corr, p"
   ]
  },
  {
   "cell_type": "code",
   "execution_count": 136,
   "metadata": {},
   "outputs": [
    {
     "name": "stdout",
     "output_type": "stream",
     "text": [
      "Reject the null hypothesis.\n",
      "Move forward with the understanding that there is a correlation between square feet and tax value dollar count\n"
     ]
    }
   ],
   "source": [
    "if p < a:\n",
    "    print('Reject the null hypothesis.')\n",
    "    print(f'Move forward with the understanding that {alt_hypothesis}')"
   ]
  },
  {
   "cell_type": "markdown",
   "metadata": {},
   "source": [
    "## Second Question/Test: Does the number of bathrooms correlate with the tax value?"
   ]
  },
  {
   "cell_type": "code",
   "execution_count": 142,
   "metadata": {},
   "outputs": [],
   "source": [
    "null_hypothesis = \"number of bathrooms and a property's tax value have no corrleation\"\n",
    "alt_hypothesis = \"number of bathrooms and a property's tax value do correlate\"\n",
    "\n",
    "conf_int = .99\n",
    "a = 1 - conf_int"
   ]
  },
  {
   "cell_type": "code",
   "execution_count": 143,
   "metadata": {},
   "outputs": [
    {
     "data": {
      "text/plain": [
       "(0.40986897588045035, 0.0)"
      ]
     },
     "execution_count": 143,
     "metadata": {},
     "output_type": "execute_result"
    }
   ],
   "source": [
    "x = train.bathroomcnt\n",
    "y = train.taxvaluedollarcnt\n",
    "\n",
    "corr, p = stats.pearsonr(x, y)\n",
    "corr, p"
   ]
  },
  {
   "cell_type": "code",
   "execution_count": 144,
   "metadata": {},
   "outputs": [
    {
     "name": "stdout",
     "output_type": "stream",
     "text": [
      "Reject the null hypothesis.\n",
      "Move forward with the understanding that number of bathrooms and a property's tax value do correlate\n"
     ]
    }
   ],
   "source": [
    "if p < a:\n",
    "    print('Reject the null hypothesis.')\n",
    "    print(f'Move forward with the understanding that {alt_hypothesis}')"
   ]
  }
 ],
 "metadata": {
  "kernelspec": {
   "display_name": "Python 3",
   "language": "python",
   "name": "python3"
  },
  "language_info": {
   "codemirror_mode": {
    "name": "ipython",
    "version": 3
   },
   "file_extension": ".py",
   "mimetype": "text/x-python",
   "name": "python",
   "nbconvert_exporter": "python",
   "pygments_lexer": "ipython3",
   "version": "3.8.5"
  }
 },
 "nbformat": 4,
 "nbformat_minor": 4
}
